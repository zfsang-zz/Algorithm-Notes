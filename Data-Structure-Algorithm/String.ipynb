{
 "cells": [
  {
   "cell_type": "markdown",
   "metadata": {},
   "source": [
    "### KMP Algorithm\n",
    "\n",
    "\n",
    "\n",
    "Reference:  \n",
    "https://www.youtube.com/watch?v=5i7oKodCRJo   \n",
    "https://leetcode.com/problems/shortest-palindrome/  \n",
    "https://en.wikipedia.org/wiki/Knuth%E2%80%93Morris%E2%80%93Pratt_algorithm   \n",
    "https://www.nayuki.io/page/knuth-morris-pratt-string-matching"
   ]
  },
  {
   "cell_type": "code",
   "execution_count": 18,
   "metadata": {
    "collapsed": true
   },
   "outputs": [],
   "source": [
    "# Searches for the given pattern string in the given text string using the Knuth-Morris-Pratt string matching algorithm.\n",
    "# If the pattern is found, this returns the index of the start of the earliest match in 'text'. Otherwise None is returned.\n",
    "def kmp_search(pattern, text):\n",
    "    if pattern == \"\":\n",
    "        return 0  # Immediate match\n",
    "    \n",
    "    # Compute longest suffix-prefix table\n",
    "    lsp = [0]  # Base case\n",
    "    for c in pattern[1 : ]:\n",
    "        j = lsp[-1]  # Start by assuming we're extending the previous LSP\n",
    "        while j > 0 and c != pattern[j]:\n",
    "            j = lsp[j - 1]\n",
    "        if c == pattern[j]:\n",
    "            j += 1\n",
    "        lsp.append(j)\n",
    "    print lsp\n",
    "    # Walk through text string\n",
    "    j = 0  # Number of chars matched in pattern\n",
    "    for i in range(len(text)):\n",
    "        while j > 0 and text[i] != pattern[j]:\n",
    "            j = lsp[j - 1]  # Fall back in the pattern\n",
    "        if text[i] == pattern[j]:\n",
    "            j += 1  # Next char matched, increment position\n",
    "            if j == len(pattern):\n",
    "                return i - (j - 1)\n",
    "    return None  # Not found"
   ]
  },
  {
   "cell_type": "code",
   "execution_count": 19,
   "metadata": {
    "collapsed": false
   },
   "outputs": [
    {
     "name": "stdout",
     "output_type": "stream",
     "text": [
      "[0, 0, 0, 1, 2, 3, 0, 1, 2, 1, 1]\n"
     ]
    },
    {
     "data": {
      "text/plain": [
       "92"
      ]
     },
     "execution_count": 19,
     "metadata": {},
     "output_type": "execute_result"
    }
   ],
   "source": [
    "kmp_search(\"abbabbbabaa\",\n",
    "           \"ababaabbbbababbaabaaabaabbaaaabbabaabbbbbbabbaabbabbbabbbbbaaabaababbbaabbbabbbaabbbbaaabbababbabbbabaaabbaabbabababbbaaaaaaababbabaababaabbbbaaabbbabb\"\n",
    ")"
   ]
  },
  {
   "cell_type": "code",
   "execution_count": null,
   "metadata": {
    "collapsed": true
   },
   "outputs": [],
   "source": []
  }
 ],
 "metadata": {
  "kernelspec": {
   "display_name": "Python 2",
   "language": "python",
   "name": "python2"
  },
  "language_info": {
   "codemirror_mode": {
    "name": "ipython",
    "version": 2
   },
   "file_extension": ".py",
   "mimetype": "text/x-python",
   "name": "python",
   "nbconvert_exporter": "python",
   "pygments_lexer": "ipython2",
   "version": "2.7.11"
  }
 },
 "nbformat": 4,
 "nbformat_minor": 0
}
