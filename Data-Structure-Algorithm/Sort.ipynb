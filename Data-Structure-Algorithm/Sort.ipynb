{
 "cells": [
  {
   "cell_type": "markdown",
   "metadata": {},
   "source": [
    "### 1.quick sort\n"
   ]
  },
  {
   "cell_type": "code",
   "execution_count": null,
   "metadata": {
    "collapsed": true
   },
   "outputs": [],
   "source": [
    "def quick_sort(arr):\n",
    "    less=[]\n",
    "    equal=[]\n",
    "    greater=[]\n",
    "    \n",
    "    if len(arr)>1:\n",
    "        pivot = arr[0]\n",
    "        for x in arr:\n",
    "            if x<pivot:\n",
    "                less.append(x)\n",
    "            elif x==pivot:\n",
    "                equal.append(x)\n",
    "            else:\n",
    "                greater.append(x)\n",
    "        return quick_sort(less) + equal + quick_sort(greater)\n",
    "    else:\n",
    "        return arr\n",
    "    \n",
    "arr = [1,4,5,6,33,3,2,5,6,0,15]    \n",
    "print quick_sort(arr)"
   ]
  },
  {
   "cell_type": "code",
   "execution_count": null,
   "metadata": {
    "collapsed": true
   },
   "outputs": [],
   "source": [
    "def quicksort(seq):\n",
    "    if len(seq) <= 1: \n",
    "        return seq\n",
    "    lo, pi, hi = partition(seq)\n",
    "    return quicksort(lo) + [pi] + quicksort(hi)\n",
    "\n",
    "def partition(seq):\n",
    "    pi, seq = seq[0], seq[1:]\n",
    "    lo = [x for x in seq if x <= pi]\n",
    "    hi = [x for x in seq if x > pi]\n",
    "    return lo, pi, hi"
   ]
  },
  {
   "cell_type": "markdown",
   "metadata": {},
   "source": [
    "### 2. Mege Sort"
   ]
  },
  {
   "cell_type": "code",
   "execution_count": 1,
   "metadata": {
    "collapsed": false
   },
   "outputs": [
    {
     "name": "stdout",
     "output_type": "stream",
     "text": [
      "[0, 1, 2, 3, 4, 5, 5, 6, 6, 15, 33]\n"
     ]
    }
   ],
   "source": [
    "def merge_sort(arr):\n",
    "    if len(arr)<=1:\n",
    "        return arr\n",
    "    mid = len(arr)/2\n",
    "    left = merge_sort(arr[:mid])\n",
    "    right = merge_sort(arr[mid:])\n",
    "    return merge(left,right)\n",
    "\n",
    "def merge(left,right):\n",
    "    if not left:\n",
    "        return right\n",
    "    if not right:\n",
    "        return left\n",
    "    if left[0]<right[0]:\n",
    "        return [left[0]] + merge(left[1:],right)\n",
    "    else:\n",
    "        return [right[0]] + merge(left,right[1:])\n",
    "\n",
    "arr = [1,4,5,6,33,3,2,5,6,0,15]\n",
    "print merge_sort(arr)"
   ]
  },
  {
   "cell_type": "markdown",
   "metadata": {},
   "source": [
    "### 3. Bucket Sort\n",
    "\n"
   ]
  },
  {
   "cell_type": "code",
   "execution_count": null,
   "metadata": {
    "collapsed": true
   },
   "outputs": [],
   "source": []
  },
  {
   "cell_type": "markdown",
   "metadata": {},
   "source": [
    "### 4. Bubble Sort\n"
   ]
  },
  {
   "cell_type": "code",
   "execution_count": null,
   "metadata": {
    "collapsed": true
   },
   "outputs": [],
   "source": []
  },
  {
   "cell_type": "code",
   "execution_count": null,
   "metadata": {
    "collapsed": true
   },
   "outputs": [],
   "source": []
  },
  {
   "cell_type": "markdown",
   "metadata": {},
   "source": [
    "## Bonus\n",
    "### Top K problem\n"
   ]
  },
  {
   "cell_type": "code",
   "execution_count": 1,
   "metadata": {
    "collapsed": true
   },
   "outputs": [],
   "source": [
    "from collections import defaultdict\n",
    "\n",
    "class Solution(object):\n",
    "    def topKFrequent(self, nums, k):\n",
    "        \"\"\"\n",
    "        :type nums: List[int]\n",
    "        :type k: int\n",
    "        :rtype: List[int]\n",
    "        Using Bucket Sort\n",
    "        \"\"\"\n",
    "        d = defaultdict(int)\n",
    "        for i in nums:\n",
    "            d[i]+=1\n",
    "        freqList = [[] for i in range(len(nums)+1)]\n",
    "        for key in d:\n",
    "            freqList[d[key]]+=key,\n",
    "        res =[]\n",
    "        for i in reversed(range(len(nums)+1)):\n",
    "            res += freqList[i]\n",
    "        return res[:k]\n",
    "            "
   ]
  },
  {
   "cell_type": "code",
   "execution_count": null,
   "metadata": {
    "collapsed": true
   },
   "outputs": [],
   "source": []
  }
 ],
 "metadata": {
  "kernelspec": {
   "display_name": "Python 2",
   "language": "python",
   "name": "python2"
  },
  "language_info": {
   "codemirror_mode": {
    "name": "ipython",
    "version": 2
   },
   "file_extension": ".py",
   "mimetype": "text/x-python",
   "name": "python",
   "nbconvert_exporter": "python",
   "pygments_lexer": "ipython2",
   "version": "2.7.11"
  }
 },
 "nbformat": 4,
 "nbformat_minor": 0
}
