{
 "cells": [
  {
   "cell_type": "markdown",
   "metadata": {},
   "source": [
    "### 1. DFS "
   ]
  },
  {
   "cell_type": "code",
   "execution_count": 6,
   "metadata": {
    "collapsed": false
   },
   "outputs": [
    {
     "name": "stdout",
     "output_type": "stream",
     "text": [
      "  preorder: 1 2 4 7 5 3 6 8 9 \n",
      "   inorder: 7 4 2 5 1 8 6 9 3 \n",
      " postorder: 7 4 5 2 8 9 6 3 1 "
     ]
    }
   ],
   "source": [
    "from collections import namedtuple\n",
    "from sys import stdout\n",
    " \n",
    "Node = namedtuple('Node', 'data, left, right')\n",
    "tree = Node(1,\n",
    "            Node(2,\n",
    "                 Node(4,\n",
    "                      Node(7, None, None),\n",
    "                      None),\n",
    "                 Node(5, None, None)),\n",
    "            Node(3,\n",
    "                 Node(6,\n",
    "                      Node(8, None, None),\n",
    "                      Node(9, None, None)),\n",
    "                 None))\n",
    " \n",
    "def printwithspace(i):\n",
    "    stdout.write(\"%i \" % i)\n",
    "    \n",
    "def preorder(node, visitor = printwithspace):\n",
    "    if node is not None:\n",
    "        visitor(node.data)\n",
    "        preorder(node.left, visitor)\n",
    "        preorder(node.right, visitor)\n",
    "\n",
    "def inorder(node, visitor = printwithspace):\n",
    "    if node is not None:\n",
    "        inorder(node.left, visitor)\n",
    "        visitor(node.data)\n",
    "        inorder(node.right, visitor)\n",
    "\n",
    "def postorder(node, visitor = printwithspace):\n",
    "    if node is not None:\n",
    "        postorder(node.left, visitor)\n",
    "        postorder(node.right, visitor)\n",
    "        visitor(node.data)\n",
    "\n",
    "\n",
    "\n",
    "stdout.write('  preorder: ')\n",
    "preorder(tree)\n",
    "stdout.write('\\n   inorder: ')\n",
    "inorder(tree)\n",
    "stdout.write('\\n postorder: ')\n",
    "postorder(tree)\n"
   ]
  },
  {
   "cell_type": "markdown",
   "metadata": {},
   "source": [
    "### 2. BFS"
   ]
  },
  {
   "cell_type": "code",
   "execution_count": 7,
   "metadata": {
    "collapsed": false
   },
   "outputs": [
    {
     "name": "stdout",
     "output_type": "stream",
     "text": [
      "\n",
      "levelorder: 1 2 3 4 5 6 7 8 9 \n"
     ]
    }
   ],
   "source": [
    "def levelorder(node, more=None, visitor = printwithspace):\n",
    "    if node is not None:\n",
    "        if more is None:\n",
    "            more = []\n",
    "        more += [node.left, node.right]\n",
    "        visitor(node.data)\n",
    "    if more:    \n",
    "        levelorder(more[0], more[1:], visitor)\n",
    "stdout.write('\\nlevelorder: ')\n",
    "levelorder(tree)\n",
    "stdout.write('\\n')"
   ]
  },
  {
   "cell_type": "code",
   "execution_count": null,
   "metadata": {
    "collapsed": true
   },
   "outputs": [],
   "source": []
  }
 ],
 "metadata": {
  "kernelspec": {
   "display_name": "Python 2",
   "language": "python",
   "name": "python2"
  },
  "language_info": {
   "codemirror_mode": {
    "name": "ipython",
    "version": 2
   },
   "file_extension": ".py",
   "mimetype": "text/x-python",
   "name": "python",
   "nbconvert_exporter": "python",
   "pygments_lexer": "ipython2",
   "version": "2.7.11"
  }
 },
 "nbformat": 4,
 "nbformat_minor": 0
}
