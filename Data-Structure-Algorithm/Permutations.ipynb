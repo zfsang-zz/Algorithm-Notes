{
 "cells": [
  {
   "cell_type": "markdown",
   "metadata": {},
   "source": [
    "## 1.Permutations\n",
    "\n",
    "### 1.1 Permutations of list w/o duplicates\n",
    "https://leetcode.com/problems/permutations/?tab=Description"
   ]
  },
  {
   "cell_type": "code",
   "execution_count": 3,
   "metadata": {
    "collapsed": true
   },
   "outputs": [],
   "source": [
    "def permute(self, lst):\n",
    "    \"\"\"\n",
    "    :type nums: List[int]\n",
    "    :rtype: List[List[int]]\n",
    "            using backtracking\n",
    "    \"\"\"\n",
    "    if len(lst) == 0:\n",
    "        return []\n",
    "    if len(lst) == 1:\n",
    "        return lst\n",
    "    res = []\n",
    "    lst = sorted(lst)\n",
    "    prev = None\n",
    "    for i in range(len(lst)):\n",
    "        for j in self.permute(lst[:i] + lst[i+1:]):\n",
    "            res.append([lst[i]] + j)\n",
    "    return res"
   ]
  },
  {
   "cell_type": "markdown",
   "metadata": {},
   "source": [
    "### 1.2 Permutations of list with duplicates\n",
    "https://leetcode.com/problems/permutations-ii/?tab=Description"
   ]
  },
  {
   "cell_type": "code",
   "execution_count": 14,
   "metadata": {
    "collapsed": true
   },
   "outputs": [],
   "source": [
    "def permuteUnique(lst):\n",
    "    if len(lst) == 0:\n",
    "        return [lst]\n",
    "    if len(lst) == 1:\n",
    "        return [lst]\n",
    "    res = []\n",
    "    lst = sorted(lst)\n",
    "    prev = None\n",
    "    for i in range(len(lst)):\n",
    "        if lst[i] == prev:\n",
    "            continue\n",
    "        prev = lst[i]\n",
    "        for j in permuteUnique(lst[:i] + lst[i+1:]):\n",
    "            res.append([lst[i]] + j)\n",
    "    return res"
   ]
  },
  {
   "cell_type": "code",
   "execution_count": 15,
   "metadata": {
    "collapsed": false
   },
   "outputs": [
    {
     "data": {
      "text/plain": [
       "[['a', 'a', 'a', 'd'],\n",
       " ['a', 'a', 'd', 'a'],\n",
       " ['a', 'd', 'a', 'a'],\n",
       " ['d', 'a', 'a', 'a']]"
      ]
     },
     "execution_count": 15,
     "metadata": {},
     "output_type": "execute_result"
    }
   ],
   "source": [
    "permuteUnique('adaa')"
   ]
  },
  {
   "cell_type": "markdown",
   "metadata": {},
   "source": [
    "\n",
    "## 2. Combinations\n",
    "\n",
    "### 2.1 Combinations of list w/o duplicates\n",
    "Given two integers n and k, return all possible combinations of k numbers out of 1 ... n.\n",
    "\n",
    "https://leetcode.com/problems/combinations/\n"
   ]
  },
  {
   "cell_type": "code",
   "execution_count": 18,
   "metadata": {
    "collapsed": true
   },
   "outputs": [],
   "source": [
    "def combine(self, n, k):\n",
    "    ans = []\n",
    "    stack = []\n",
    "    x =1\n",
    "    while True:\n",
    "        l = len(stack)\n",
    "        if l == k:\n",
    "            ans.append(stack[:])\n",
    "        if l== k or x>n-k+l + 1:\n",
    "            if not stack:\n",
    "                return ans\n",
    "            x = stack.pop() + 1\n",
    "        else:\n",
    "            stack.append(x)\n",
    "            x += 1"
   ]
  },
  {
   "cell_type": "markdown",
   "metadata": {},
   "source": [
    "### 3.1 Subset\n",
    "Given a list of distinct values, return all possible subsets.  \n",
    "https://leetcode.com/problems/subsets/\n"
   ]
  },
  {
   "cell_type": "code",
   "execution_count": 5,
   "metadata": {
    "collapsed": true
   },
   "outputs": [],
   "source": [
    "def subsets(lst):\n",
    "    res = [[]]\n",
    "    for item in lst:\n",
    "        res += [sub + [item] for sub in res]\n",
    "    return res"
   ]
  },
  {
   "cell_type": "markdown",
   "metadata": {},
   "source": [
    "### 3.2 Subset w/ duplicates\n",
    "Given a list of values with duplicates, return all possible subsets.  \n",
    "https://leetcode.com/problems/subsets-ii/\n"
   ]
  },
  {
   "cell_type": "code",
   "execution_count": 6,
   "metadata": {
    "collapsed": true
   },
   "outputs": [],
   "source": [
    "def dfs(self,start,nums,path):\n",
    "    self.res.append(path)\n",
    "    for i in xrange(start,self.length):\n",
    "        if i >start and nums[i] == nums[i-1]:\n",
    "            continue\n",
    "        self.dfs(i+1,nums,path + [nums[i]])\n",
    "\n",
    "def subsetsWithDup(self, nums):\n",
    "    nums.sort()\n",
    "    self.length = len(nums)\n",
    "    self.res = []\n",
    "    self.dfs(0,nums,[])\n",
    "    return self.res\n"
   ]
  },
  {
   "cell_type": "code",
   "execution_count": 22,
   "metadata": {
    "collapsed": false
   },
   "outputs": [
    {
     "data": {
      "text/plain": [
       "[('a', 'k', 's'), ('b', 'i', 't'), ('c', 'n', 'a')]"
      ]
     },
     "execution_count": 22,
     "metadata": {},
     "output_type": "execute_result"
    }
   ],
   "source": [
    "strs = ['abc','king','stary']\n",
    "zip(*strs)"
   ]
  },
  {
   "cell_type": "code",
   "execution_count": null,
   "metadata": {
    "collapsed": true
   },
   "outputs": [],
   "source": []
  }
 ],
 "metadata": {
  "kernelspec": {
   "display_name": "Python 2",
   "language": "python",
   "name": "python2"
  },
  "language_info": {
   "codemirror_mode": {
    "name": "ipython",
    "version": 2
   },
   "file_extension": ".py",
   "mimetype": "text/x-python",
   "name": "python",
   "nbconvert_exporter": "python",
   "pygments_lexer": "ipython2",
   "version": "2.7.11"
  }
 },
 "nbformat": 4,
 "nbformat_minor": 0
}
