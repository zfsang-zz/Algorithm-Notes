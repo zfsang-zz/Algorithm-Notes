{
 "cells": [
  {
   "cell_type": "code",
   "execution_count": null,
   "metadata": {
    "collapsed": false
   },
   "outputs": [],
   "source": []
  },
  {
   "cell_type": "markdown",
   "metadata": {},
   "source": [
    "| A | B | !A | A&B | A&#124;&#124;B | A^B |\n",
    "|---|---|----|-----|------|-----|\n",
    "| 0 | 0 | 1  | 0   | 0    | 0   |\n",
    "| 0 | 1 | 1  | 0   | 1    | 1   |\n",
    "| 1 | 0 | 0  | 0   | 1    | 1   |\n",
    "| 1 | 1 | 0  | 1   | 1    | 0   |"
   ]
  },
  {
   "cell_type": "markdown",
   "metadata": {},
   "source": [
    "## Tricks\n",
    "\n",
    "#### 1. n&(n-1)\n",
    "\"n &= n - 1\" is used to delete the right \"1\" of n. For example:   \n",
    "\n",
    "if n = 5 (101), then n-1 = 100, so n & (n-1) = 100, the right \"1\" is deleted;   \n",
    "if n = 6,(110), then n-1 = 101, so n & (n-1) = 100, the right \"1\" is also deleted;    \n",
    "and so on...   \n",
    "So time complexity is O(m), and m is the count of 1's, also m is less than or equal to 32.   \n",
    "\n",
    "   \n",
    "For n - 1, it will keep borrowing from the zeros until it reaches the first 1, then it will set that 1 to a 0 (since it borrowed from it for the subtraction). For example, 0x1100 - 1 = 0x1011. A bit mask of 0x1011 will clear the same position where the first set bit is. In this case, 0x1100 & 0x1011 = 0x1000. It's no different from when you subtract 1 from 1000 to get 999, since you had to keep borrowing until you reached a nonzero digit, it's just that in binary the first digit you borrow from always becomes 0 after it is borrowed from.\n",
    "\n",
    "\n",
    "\n",
    "#### 2.  XOR \n",
    "Useful to find the single value out of a list of values appears twice but one.\n",
    "\n",
    "#### "
   ]
  },
  {
   "cell_type": "code",
   "execution_count": null,
   "metadata": {
    "collapsed": true
   },
   "outputs": [],
   "source": []
  },
  {
   "cell_type": "code",
   "execution_count": null,
   "metadata": {
    "collapsed": true
   },
   "outputs": [],
   "source": [
    "class Solution:\n",
    "    # @param A, a list of integer\n",
    "    # @return an integer\n",
    "    def singleNumber(self, A):\n",
    "        one = 0; two = 0; three = 0\n",
    "        for i in range(len(A)):\n",
    "            two |= A[i] & one              #two为1时，不管A[i]为什么，two都为1\n",
    "            one = A[i] ^ one               #异或操作，都是1就进位\n",
    "            three = ~(one & two)　　　　    #以下三步的意思是：如果one和two都为1时，就清0，反之则保持原来状态。\n",
    "            one &= three\n",
    "            two &= three\n",
    "        return one"
   ]
  },
  {
   "cell_type": "code",
   "execution_count": null,
   "metadata": {
    "collapsed": true
   },
   "outputs": [],
   "source": []
  },
  {
   "cell_type": "code",
   "execution_count": null,
   "metadata": {
    "collapsed": true
   },
   "outputs": [],
   "source": []
  },
  {
   "cell_type": "code",
   "execution_count": 5,
   "metadata": {
    "collapsed": false
   },
   "outputs": [
    {
     "ename": "SyntaxError",
     "evalue": "invalid syntax (<ipython-input-5-a473d7e07c16>, line 1)",
     "output_type": "error",
     "traceback": [
      "\u001b[0;36m  File \u001b[0;32m\"<ipython-input-5-a473d7e07c16>\"\u001b[0;36m, line \u001b[0;32m1\u001b[0m\n\u001b[0;31m    1&&0\u001b[0m\n\u001b[0m      ^\u001b[0m\n\u001b[0;31mSyntaxError\u001b[0m\u001b[0;31m:\u001b[0m invalid syntax\n"
     ]
    }
   ],
   "source": []
  },
  {
   "cell_type": "code",
   "execution_count": null,
   "metadata": {
    "collapsed": true
   },
   "outputs": [],
   "source": []
  }
 ],
 "metadata": {
  "kernelspec": {
   "display_name": "Python 2",
   "language": "python",
   "name": "python2"
  },
  "language_info": {
   "codemirror_mode": {
    "name": "ipython",
    "version": 2
   },
   "file_extension": ".py",
   "mimetype": "text/x-python",
   "name": "python",
   "nbconvert_exporter": "python",
   "pygments_lexer": "ipython2",
   "version": "2.7.11"
  }
 },
 "nbformat": 4,
 "nbformat_minor": 0
}
