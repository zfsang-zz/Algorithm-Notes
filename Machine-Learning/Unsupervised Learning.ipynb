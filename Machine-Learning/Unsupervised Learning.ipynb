{
 "cells": [
  {
   "cell_type": "markdown",
   "metadata": {},
   "source": [
    "# Unsupervised Learning"
   ]
  },
  {
   "cell_type": "markdown",
   "metadata": {},
   "source": [
    "** No Label ! No Cost function! **"
   ]
  },
  {
   "cell_type": "markdown",
   "metadata": {},
   "source": [
    "### Categories\n",
    "* clustering\n",
    " * k-means\n",
    " * mixture models\n",
    " * hierarchical clustering\n",
    "* anomaly detection\n",
    "* Neural Networks\n",
    " * Hebbian Learning\n",
    " * Generative Adversarial Networks\n",
    "* Approaches for learning latent variable models such as\n",
    " * Expectation–maximization algorithm (EM)\n",
    " * Method of moments\n",
    " * Blind signal separation techniques, e.g.,\n",
    "   * Principal component analysis,\n",
    "   * Independent component analysis,\n",
    "   * Non-negative matrix factorization,\n",
    "   * Singular value decomposition.\n",
    "   \n",
    "---"
   ]
  },
  {
   "cell_type": "markdown",
   "metadata": {},
   "source": [
    "\n",
    "## K means\n",
    "\n",
    "Guaranteed to converge. But it's unknown whether it will converge to the best answer.\n",
    "\n",
    "Therefore we must run it multiple times to see what results we get.\n",
    "\n",
    "1. The first step chooses the initial centroids, with the most basic method being to choose k samples from the dataset X.\n",
    "2. After initialization, K-means consists of looping between the two other steps. The algorithm repeats these last two steps until this value is less than a threshold. In other words, it repeats until the centroids do not move significantly.\n",
    " 1. The first step assigns each sample to its nearest centroid.\n",
    " 2. The difference between the old and the new centroids are computed and the second step creates new centroids by taking the mean value of all of the samples assigned to each previous centroid.\n",
    "\n",
    "\n",
    "# Afternoon Lecture\n",
    "\n",
    "## Hierarchical clustering\n",
    "\n",
    "__How to cluster: methods of linkage__\n",
    "\n",
    " - Complete\n",
    "  * Will make more blob-y things like in k-means\n",
    " - Average\n",
    "  * Higher runtime\n",
    " - Single\n",
    "  * Good for geographical clustering (e.g. streets)\n",
    " - Centroid\n",
    "  * Even more calculations\n",
    "\n",
    "__Similarity metrics__\n",
    "\n",
    " - Euclidean\n",
    "  * Good for airlines or something\n",
    " - Manhattan\n",
    "  * Good for driving\n",
    " - Cosine\n",
    "  * Good for text\n",
    "  * Titanic should be the same as Titanic x 10\n",
    " - Jaccard\n",
    "  * Purchasing history\n",
    "  * Graph theory\n",
    "\n",
    "Build the entire thing and get dendrogram. Cut off wherever you want. Decide where to cut off (i.e. decide number of k) as before (e.g. elbow, etc.)\n",
    "\n",
    "### How do we know if our clustering is good?\n",
    "\n",
    " __Elbow__\n",
    "  - Same as before\n",
    "  - Choose the k at which error stops drastically decreasing\n",
    "\n",
    "__Silhouette coefficient__\n",
    "\n",
    "  - We want points to be similar to other points in the same cluster\n",
    "  - And also dissimilar from other clusters\n",
    "\n",
    "__GAP statistic__\n",
    " - Put in a bunch of fake data (evenly distributed) and then cluster that fake data\n",
    " - If the fake clusters are similar to our clusters then our clusters probably suck\n"
   ]
  },
  {
   "cell_type": "code",
   "execution_count": null,
   "metadata": {
    "collapsed": true
   },
   "outputs": [],
   "source": []
  },
  {
   "cell_type": "code",
   "execution_count": null,
   "metadata": {
    "collapsed": true
   },
   "outputs": [],
   "source": []
  }
 ],
 "metadata": {
  "kernelspec": {
   "display_name": "Python 2",
   "language": "python",
   "name": "python2"
  },
  "language_info": {
   "codemirror_mode": {
    "name": "ipython",
    "version": 2
   },
   "file_extension": ".py",
   "mimetype": "text/x-python",
   "name": "python",
   "nbconvert_exporter": "python",
   "pygments_lexer": "ipython2",
   "version": "2.7.11"
  }
 },
 "nbformat": 4,
 "nbformat_minor": 0
}
